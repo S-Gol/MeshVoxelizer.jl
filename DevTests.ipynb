{
 "cells": [
  {
   "cell_type": "code",
   "execution_count": 6,
   "source": [
    "using Revise\r\n",
    "using FileIO\r\n",
    "using GeometryBasics\r\n",
    "using TriangleIntersect\r\n",
    "using BenchmarkTools\r\n",
    "using GLMakie"
   ],
   "outputs": [],
   "metadata": {}
  },
  {
   "cell_type": "code",
   "execution_count": 2,
   "source": [
    "mesh = load(\"C:/College/Research/AnisoEFITJulia/MeshFiles/IIWMiniASCII.stl\");"
   ],
   "outputs": [],
   "metadata": {}
  },
  {
   "cell_type": "code",
   "execution_count": 99,
   "source": [
    "function cubeTriIntersect(verts::Vector{AbstractPoint}, cubeMin::AbstractPoint,cubeMax::AbstractPoint)\r\n",
    "\r\n",
    "end"
   ],
   "outputs": [
    {
     "output_type": "execute_result",
     "data": {
      "text/plain": [
       "cubeTriIntersect (generic function with 1 method)"
      ]
     },
     "metadata": {},
     "execution_count": 99
    }
   ],
   "metadata": {}
  },
  {
   "cell_type": "code",
   "execution_count": 42,
   "source": [
    "function getVertExtrema(verts::Array{Point3{Float32},1})\r\n",
    "    mins = [Inf32,Inf32,Inf32]\r\n",
    "    maxs = [-Inf32,-Inf32,-Inf32]\r\n",
    "    for v in verts\r\n",
    "        for i in 1:3\r\n",
    "            mins[i] = min(mins[i],v[i])\r\n",
    "            maxs[i] = max(maxs[i],v[i])\r\n",
    "        end\r\n",
    "    end\r\n",
    "    return (mins,maxs)\r\n",
    "end\r\n",
    "function getVertExtrema!(verts::Array{Point3{Float32},1}, maxs::AbstractVector,mins::AbstractVector)\r\n",
    "    mins .= Inf32\r\n",
    "    maxs .= -Inf32\r\n",
    "    for v in verts\r\n",
    "        for i in 1:3\r\n",
    "            mins[i] = min(mins[i],v[i])\r\n",
    "            maxs[i] = max(maxs[i],v[i])\r\n",
    "        end\r\n",
    "    end\r\n",
    "    return (mins,maxs)\r\n",
    "end\r\n",
    "function voxelMeshSize(bound::AbstractArray, resolution::Integer)\r\n",
    "    longest = findmax(bound)[2]\r\n",
    "    ppu = resolution/bound[longest]\r\n",
    "    return (round.(Int,bound*ppu),longest,1/ppu)\r\n",
    "end\r\n",
    "function voxelizeMesh(mesh::GeometryBasics.AbstractMesh; resolution::Integer=100)\r\n",
    "    verts = Array{Point3{Float32},1}()\r\n",
    "    for t in mesh\r\n",
    "        for v in t\r\n",
    "            push!(metafree(verts),v)\r\n",
    "        end\r\n",
    "    end\r\n",
    "    #Preallocate vectors \r\n",
    "    mins = [Inf32,Inf32,Inf32]\r\n",
    "    maxs = [-Inf32,-Inf32,-Inf32]\r\n",
    "\r\n",
    "    numTris = size(mesh,1)\r\n",
    "    tris = [[3*i-2,3*i-1,3*i] for i in 1:numTris]\r\n",
    "    normals = [t[j].normals for j in 3, t in mesh]\r\n",
    "\r\n",
    "    #Find the extrema for the mesh\r\n",
    "    mins,maxs=getVertExtrema!(verts,maxs,mins)\r\n",
    "    #Offset the verts so we're in between the origin and maxs\r\n",
    "    maxs-=mins\r\n",
    "    for i in size(verts,1)\r\n",
    "        verts[i]-=mins\r\n",
    "    end\r\n",
    "    \r\n",
    "    #Find the longest dimensions\r\n",
    "    gridSize, longestDim, ds = voxelMeshSize(maxs,resolution)\r\n",
    "    origin = [1,1,1]\r\n",
    "    grid = zeros(Bool,gridSize[1],gridSize[2],gridSize[3])\r\n",
    "\r\n",
    "    #bounding boxes for all triangles\r\n",
    "    triBBs = [getVertExtrema(verts[t]) for t in tris]\r\n",
    "\r\n",
    "    triIntBBs = Vector{Tuple{Vector{Int32},Vector{Int32}}}(undef,numTris)\r\n",
    "    for i in 1:numTris\r\n",
    "        minBound = clamp.(floor.(Int32,triBBs[i][1]/ds),origin,gridSize)\r\n",
    "        maxbound = clamp.(ceil.(Int32,triBBs[i][1]/ds),origin,gridSize)\r\n",
    "        triIntBBs[i] = (minBound,maxbound)\r\n",
    "    end\r\n",
    "    display(triIntBBs)\r\n",
    "    \r\n",
    "    for b in triIntBBs\r\n",
    "        for i in b[1][1]:b[2][1]\r\n",
    "            for j in b[1][2]:b[2][2]\r\n",
    "                for k in b[1][3]:b[2][3]\r\n",
    "                    grid[b[1][1]:b[2][1],b[1][2]:b[2][2],b[1][3]:b[2][3]]=true\r\n",
    "                end\r\n",
    "            end\r\n",
    "        end\r\n",
    "    end\r\n",
    "\r\n",
    "    return grid\r\n",
    "end\r\n",
    "\r\n",
    "display(GLMakie.volume(voxelizeMesh(mesh,resolution=500)))"
   ],
   "outputs": [
    {
     "output_type": "stream",
     "name": "stdout",
     "text": [
      "Triangle(Float32[4.87178, 0.75, 1.8], Float32[4.87178, 0.0, 1.8], Float32[4.8873715, 0.0, 1.7923648])\n",
      "GeometryBasics.Point{3, Float32}[[4.87178, 0.75, 1.8], [4.87178, 0.0, 1.8], [4.8873715, 0.0, 1.7923648]]\n",
      "(Float32[4.87178, 0.0, 1.7923648], Float32[4.8873715, 0.75, 1.8])\n"
     ]
    },
    {
     "output_type": "execute_result",
     "data": {
      "text/plain": [
       "GLMakie.Screen(...)"
      ]
     },
     "metadata": {},
     "execution_count": 42
    }
   ],
   "metadata": {}
  },
  {
   "cell_type": "code",
   "execution_count": 29,
   "source": [],
   "outputs": [
    {
     "output_type": "stream",
     "name": "stdout",
     "text": [
      "1\n",
      "2\n"
     ]
    }
   ],
   "metadata": {}
  }
 ],
 "metadata": {
  "orig_nbformat": 4,
  "language_info": {
   "file_extension": ".jl",
   "name": "julia",
   "mimetype": "application/julia",
   "version": "1.7.2"
  },
  "kernelspec": {
   "name": "julia-1.7",
   "display_name": "Julia 1.7.2",
   "language": "julia"
  }
 },
 "nbformat": 4,
 "nbformat_minor": 2
}