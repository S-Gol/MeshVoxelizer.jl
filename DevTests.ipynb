{
 "cells": [
  {
   "cell_type": "code",
   "execution_count": 1,
   "source": [
    "using Revise\r\n",
    "using FileIO\r\n",
    "using GeometryBasics\r\n",
    "using BenchmarkTools\r\n",
    "using GLMakie"
   ],
   "outputs": [],
   "metadata": {}
  },
  {
   "cell_type": "code",
   "execution_count": 2,
   "source": [
    "mesh = load(\"C:/College/Research/AnisoEFITJulia/MeshFiles/IIWMiniASCII.stl\");"
   ],
   "outputs": [],
   "metadata": {}
  },
  {
   "cell_type": "code",
   "execution_count": 89,
   "source": [],
   "outputs": [
    {
     "output_type": "execute_result",
     "data": {
      "text/plain": [
       "1×11 Matrix{Int64}:\n",
       " 1  0  0  0  0  0  0  1  0  0  0"
      ]
     },
     "metadata": {},
     "execution_count": 89
    }
   ],
   "metadata": {}
  },
  {
   "cell_type": "code",
   "execution_count": 117,
   "source": [
    "arr = [false,true,false,true,false,false,false,true,false,false,false]\r\n",
    "\r\n",
    "\r\n",
    "println(arr)\r\n",
    "scanline!(arr)\r\n",
    "println(arr)"
   ],
   "outputs": [
    {
     "output_type": "stream",
     "name": "stdout",
     "text": [
      "Bool[0, 1, 0, 1, 0, 0, 0, 1, 0, 0, 0]\n",
      "Bool[0, 1, 1, 1, 0, 0, 0, 1, 1, 1, 1]\n"
     ]
    }
   ],
   "metadata": {}
  },
  {
   "cell_type": "code",
   "execution_count": null,
   "source": [],
   "outputs": [],
   "metadata": {}
  }
 ],
 "metadata": {
  "orig_nbformat": 4,
  "language_info": {
   "file_extension": ".jl",
   "name": "julia",
   "mimetype": "application/julia",
   "version": "1.7.2"
  },
  "kernelspec": {
   "name": "julia-1.7",
   "display_name": "Julia 1.7.2",
   "language": "julia"
  }
 },
 "nbformat": 4,
 "nbformat_minor": 2
}