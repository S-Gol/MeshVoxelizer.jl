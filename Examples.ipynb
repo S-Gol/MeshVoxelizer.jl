{
 "cells": [
  {
   "cell_type": "code",
   "execution_count": 36,
   "source": [
    "using FileIO\r\n",
    "using Revise\r\n",
    "using GLMakie\r\n",
    "\r\n",
    "include(\"src/Voxelizer.jl\")\r\n",
    "using Main.Voxelizer"
   ],
   "outputs": [
    {
     "output_type": "stream",
     "name": "stderr",
     "text": [
      "WARNING: replacing module Voxelizer.\n",
      "WARNING: using Voxelizer.voxelizeMesh in module Main conflicts with an existing identifier.\n"
     ]
    }
   ],
   "metadata": {}
  },
  {
   "cell_type": "code",
   "execution_count": 37,
   "source": [
    "println(\"Enter path:\")\r\n",
    "path = readline()\r\n",
    "println(\"Done\")"
   ],
   "outputs": [
    {
     "output_type": "stream",
     "name": "stdout",
     "text": [
      "Enter path:\n",
      "Done\n"
     ]
    }
   ],
   "metadata": {}
  },
  {
   "cell_type": "code",
   "execution_count": 38,
   "source": [
    "mesh = load(path);\r\n",
    "@time grid = Voxelizer.voxelizeMesh(mesh,resolution=100,padMesh=true);\r\n",
    "display(volume(grid,isorange = 1, isovalue=1, algorithm=:iso))"
   ],
   "outputs": [
    {
     "output_type": "stream",
     "name": "stdout",
     "text": [
      "  0.676139 seconds (815.20 k allocations: 40.886 MiB, 7.69% gc time, 95.09% compilation time)\n"
     ]
    },
    {
     "output_type": "execute_result",
     "data": {
      "text/plain": [
       "GLMakie.Screen(...)"
      ]
     },
     "metadata": {},
     "execution_count": 38
    }
   ],
   "metadata": {}
  },
  {
   "cell_type": "code",
   "execution_count": 48,
   "source": [
    "resIterator = 10:5:500\r\n",
    "fig = Figure(resolution = (1920,1080))\r\n",
    "fig[1,1]=Axis3(fig[1,1],aspect = :data)\r\n",
    "volume!(grid,isorange = 1, isovalue=1, algorithm=:iso)\r\n",
    "record(fig,\"VoxelAnimation.mp4\", resIterator, framerate=15) do res\r\n",
    "    plt.volume = Voxelizer.voxelizeMesh(mesh,resolution=res)\r\n",
    "end"
   ],
   "outputs": [
    {
     "output_type": "execute_result",
     "data": {
      "text/plain": [
       "\"VoxelAnimation.mp4\""
      ]
     },
     "metadata": {},
     "execution_count": 48
    }
   ],
   "metadata": {}
  }
 ],
 "metadata": {
  "orig_nbformat": 4,
  "language_info": {
   "file_extension": ".jl",
   "name": "julia",
   "mimetype": "application/julia",
   "version": "1.7.2"
  },
  "kernelspec": {
   "name": "julia-1.7",
   "display_name": "Julia 1.7.2",
   "language": "julia"
  }
 },
 "nbformat": 4,
 "nbformat_minor": 2
}